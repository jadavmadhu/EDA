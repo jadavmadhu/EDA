{
 "cells": [
  {
   "cell_type": "markdown",
   "id": "bad80e19-0e37-47c8-b04d-dcbd2eebd81c",
   "metadata": {},
   "source": [
    "# EDA \n"
   ]
  },
  {
   "cell_type": "markdown",
   "id": "f7e46d2a-d4af-4d96-b778-792f406a3703",
   "metadata": {},
   "source": [
    "\n",
    "======================== EDA ==================================\n",
    "\n",
    "- Pandas             :Dataframe  or data applications\n",
    "\n",
    "- Numpy              :numerical python for math operations\n",
    "\n",
    "- matplotlib         :for plots and graphs\n",
    "\n",
    "- seaborn            :for plots and graphs\n",
    "\n",
    "- bokhe              :for plots\n",
    "\n",
    "- plotly             :for plots\n",
    "\n",
    "\n"
   ]
  },
  {
   "cell_type": "markdown",
   "id": "111de272-1169-48e6-9e53-1e8c44c57975",
   "metadata": {},
   "source": [
    "#  Meachine Learning "
   ]
  },
  {
   "cell_type": "markdown",
   "id": "d79d4764-2ed7-4136-89f4-bc198276367c",
   "metadata": {},
   "source": [
    "- skilit learn(sklearn)          :ML models\n",
    "- stats                          :statistical models\n"
   ]
  },
  {
   "cell_type": "markdown",
   "id": "6e32aa2e-0b00-4bd8-bbc8-cf2c6e563d54",
   "metadata": {},
   "source": [
    "#  data retrival from \"sql\" scrapping"
   ]
  },
  {
   "cell_type": "markdown",
   "id": "bd5afa5a-f940-43c3-99e9-aa0cfc5dd8b7",
   "metadata": {},
   "source": [
    "- sqlite                          :connect with data base\n",
    "- beautiful supe                 :scrap the data from website\n",
    "- websocket                      :scrap"
   ]
  },
  {
   "cell_type": "markdown",
   "id": "9a06e918-c3e7-4116-b2d2-3c8badae74e3",
   "metadata": {},
   "source": [
    "# Deep learning/computer vision"
   ]
  },
  {
   "cell_type": "markdown",
   "id": "9ebdcf55-511c-4ca2-8d32-54502dfc4eda",
   "metadata": {},
   "source": [
    "- tensirflow             :Google\n",
    "- keras                  :DL model\n",
    "- opencv                 :image operation\n",
    "- Pillow(pil)            :image operation \n",
    "- pytorch                :facebook\n",
    "- pretrained models\n",
    "\n",
    "    - CGG16\n",
    "    - mobilenet\n",
    "    - RESENT\n",
    "    - RCNIN\n",
    "    - MASKRCNN\n",
    "    - FASTEERCNN\n",
    "    - YOLO\n",
    "\n",
    "    "
   ]
  },
  {
   "cell_type": "markdown",
   "id": "77a03e0f-1390-4f55-a887-cde481c2f1cd",
   "metadata": {},
   "source": [
    "# Natural Language process"
   ]
  },
  {
   "cell_type": "markdown",
   "id": "217d23ec-97c5-43de-b0a1-c395a7a89423",
   "metadata": {},
   "source": [
    "- NLTK                   :  natural language process\n",
    "\n",
    "- scipy\n",
    "\n",
    "- word 2vec (how words will convert into vector\n",
    "\n",
    "- Glove\n",
    "\n",
    "- wordcloud"
   ]
  },
  {
   "cell_type": "markdown",
   "id": "eb1f23d2-8876-4c26-938d-2c184554224b",
   "metadata": {},
   "source": [
    "# Hugging face"
   ]
  },
  {
   "cell_type": "markdown",
   "id": "877d51c4-e320-48f7-8dfb-11de7e2317ea",
   "metadata": {},
   "source": [
    "- transformers            :BERT"
   ]
  },
  {
   "cell_type": "markdown",
   "id": "54390421-059b-4374-b2a6-953f244c25c5",
   "metadata": {},
   "source": [
    "# GenAI Models"
   ]
  },
  {
   "cell_type": "markdown",
   "id": "4113fb42-e103-45ac-a397-bb35680b00bf",
   "metadata": {},
   "source": [
    "- OpenAI+Microsoft   :  GPT Model\n",
    "- Google              : Gemini\n",
    "- Amazon              : Q\n",
    "- Meta facebook       : MetaAI\n",
    "- Apple\n",
    "\n",
    "- LLAMA\n",
    "- GEMMA\n",
    "- Dalle-E\n",
    "- TS\n",
    "- "
   ]
  },
  {
   "cell_type": "markdown",
   "id": "d5e30ca0-722c-4d8e-8e91-f2881bf172f1",
   "metadata": {},
   "source": [
    "# LANGCHAIN"
   ]
  },
  {
   "cell_type": "markdown",
   "id": "78527a14-0d6a-44b8-99b1-e53898e12eda",
   "metadata": {},
   "source": [
    "- LangChain framework"
   ]
  },
  {
   "cell_type": "markdown",
   "id": "711e6c69-7d36-48e7-be89-edaaf3aeb9e8",
   "metadata": {},
   "source": [
    "# Deployments"
   ]
  },
  {
   "cell_type": "markdown",
   "id": "327a5ac3-164f-4f33-932b-eaf668ea7422",
   "metadata": {},
   "source": [
    "- Flask\n",
    "- Streamlit\n",
    "- Django\n",
    "- "
   ]
  },
  {
   "cell_type": "markdown",
   "id": "8ff59055-9388-49f4-80a5-bc057521c721",
   "metadata": {},
   "source": [
    "# MLops"
   ]
  },
  {
   "cell_type": "markdown",
   "id": "f1a04b20-2894-4f80-b66e-6b71d5fab488",
   "metadata": {},
   "source": [
    "- MLFlow\n",
    "- kubeflow\n",
    "- Azure AI services   : azure packages\n",
    "- GCP   :GCP  packages"
   ]
  },
  {
   "cell_type": "code",
   "execution_count": null,
   "id": "98e40b06-a2a3-4e94-bb20-ce0d79f66976",
   "metadata": {},
   "outputs": [],
   "source": []
  },
  {
   "cell_type": "markdown",
   "id": "ac39ec39-01d3-4a2e-8961-bce5f0366fa1",
   "metadata": {},
   "source": [
    "**step-1**\n",
    "\n",
    "**Create a data farame**"
   ]
  },
  {
   "cell_type": "markdown",
   "id": "d8caad41-0a7f-42bc-8b8b-c692707767af",
   "metadata": {},
   "source": [
    "- we will create a DataFrame using list\n",
    "- we will create a DataFrame using Dictionary"
   ]
  },
  {
   "cell_type": "code",
   "execution_count": 4,
   "id": "65e8a5ac-0680-4d10-87ad-8f5d7db04c3b",
   "metadata": {},
   "outputs": [],
   "source": [
    "import pandas as pd"
   ]
  },
  {
   "cell_type": "code",
   "execution_count": 7,
   "id": "671d9676-d8d6-4884-9e2f-8300de708df5",
   "metadata": {},
   "outputs": [
    {
     "data": {
      "text/html": [
       "<div>\n",
       "<style scoped>\n",
       "    .dataframe tbody tr th:only-of-type {\n",
       "        vertical-align: middle;\n",
       "    }\n",
       "\n",
       "    .dataframe tbody tr th {\n",
       "        vertical-align: top;\n",
       "    }\n",
       "\n",
       "    .dataframe thead th {\n",
       "        text-align: right;\n",
       "    }\n",
       "</style>\n",
       "<table border=\"1\" class=\"dataframe\">\n",
       "  <thead>\n",
       "    <tr style=\"text-align: right;\">\n",
       "      <th></th>\n",
       "    </tr>\n",
       "  </thead>\n",
       "  <tbody>\n",
       "  </tbody>\n",
       "</table>\n",
       "</div>"
      ],
      "text/plain": [
       "Empty DataFrame\n",
       "Columns: []\n",
       "Index: []"
      ]
     },
     "execution_count": 7,
     "metadata": {},
     "output_type": "execute_result"
    }
   ],
   "source": [
    "d1=pd.DataFrame()\n",
    "d1"
   ]
  },
  {
   "cell_type": "code",
   "execution_count": 8,
   "id": "0e793934-d940-48a2-8da4-34f20e89d8ec",
   "metadata": {},
   "outputs": [
    {
     "data": {
      "text/plain": [
       "pandas.core.frame.DataFrame"
      ]
     },
     "execution_count": 8,
     "metadata": {},
     "output_type": "execute_result"
    }
   ],
   "source": [
    "type(d1)"
   ]
  },
  {
   "cell_type": "markdown",
   "id": "ebaa3ae9-ef68-47c2-ae84-ad48b37c5ac7",
   "metadata": {},
   "source": [
    "**Step-2**\n",
    "\n",
    "**Provide the Data**"
   ]
  },
  {
   "cell_type": "code",
   "execution_count": 10,
   "id": "c4433683-c206-47a9-9a24-b3326d1319a9",
   "metadata": {},
   "outputs": [
    {
     "data": {
      "text/html": [
       "<div>\n",
       "<style scoped>\n",
       "    .dataframe tbody tr th:only-of-type {\n",
       "        vertical-align: middle;\n",
       "    }\n",
       "\n",
       "    .dataframe tbody tr th {\n",
       "        vertical-align: top;\n",
       "    }\n",
       "\n",
       "    .dataframe thead th {\n",
       "        text-align: right;\n",
       "    }\n",
       "</style>\n",
       "<table border=\"1\" class=\"dataframe\">\n",
       "  <thead>\n",
       "    <tr style=\"text-align: right;\">\n",
       "      <th></th>\n",
       "      <th>0</th>\n",
       "    </tr>\n",
       "  </thead>\n",
       "  <tbody>\n",
       "    <tr>\n",
       "      <th>0</th>\n",
       "      <td>tarun</td>\n",
       "    </tr>\n",
       "    <tr>\n",
       "      <th>1</th>\n",
       "      <td>surender</td>\n",
       "    </tr>\n",
       "    <tr>\n",
       "      <th>2</th>\n",
       "      <td>mohit</td>\n",
       "    </tr>\n",
       "  </tbody>\n",
       "</table>\n",
       "</div>"
      ],
      "text/plain": [
       "          0\n",
       "0     tarun\n",
       "1  surender\n",
       "2     mohit"
      ]
     },
     "execution_count": 10,
     "metadata": {},
     "output_type": "execute_result"
    }
   ],
   "source": [
    "names=[\"tarun\",\"surender\",\"mohit\"]\n",
    "pd.DataFrame(names)"
   ]
  },
  {
   "cell_type": "code",
   "execution_count": 15,
   "id": "de459dd5-8ce6-40c4-bd00-770bba30bedb",
   "metadata": {},
   "outputs": [
    {
     "data": {
      "text/html": [
       "<div>\n",
       "<style scoped>\n",
       "    .dataframe tbody tr th:only-of-type {\n",
       "        vertical-align: middle;\n",
       "    }\n",
       "\n",
       "    .dataframe tbody tr th {\n",
       "        vertical-align: top;\n",
       "    }\n",
       "\n",
       "    .dataframe thead th {\n",
       "        text-align: right;\n",
       "    }\n",
       "</style>\n",
       "<table border=\"1\" class=\"dataframe\">\n",
       "  <thead>\n",
       "    <tr style=\"text-align: right;\">\n",
       "      <th></th>\n",
       "      <th>names</th>\n",
       "      <th>age</th>\n",
       "    </tr>\n",
       "  </thead>\n",
       "  <tbody>\n",
       "    <tr>\n",
       "      <th>0</th>\n",
       "      <td>tarun</td>\n",
       "      <td>20</td>\n",
       "    </tr>\n",
       "    <tr>\n",
       "      <th>1</th>\n",
       "      <td>surender</td>\n",
       "      <td>25</td>\n",
       "    </tr>\n",
       "    <tr>\n",
       "      <th>2</th>\n",
       "      <td>mohit</td>\n",
       "      <td>21</td>\n",
       "    </tr>\n",
       "  </tbody>\n",
       "</table>\n",
       "</div>"
      ],
      "text/plain": [
       "      names  age\n",
       "0     tarun   20\n",
       "1  surender   25\n",
       "2     mohit   21"
      ]
     },
     "execution_count": 15,
     "metadata": {},
     "output_type": "execute_result"
    }
   ],
   "source": [
    "names=[\"tarun\",\"surender\",\"mohit\"]\n",
    "age=[20,25,21]\n",
    "pd.DataFrame(zip(names,age))"
   ]
  },
  {
   "cell_type": "code",
   "execution_count": 14,
   "id": "bc862564-9794-4b3e-bb69-5d9a2f65ee66",
   "metadata": {},
   "outputs": [
    {
     "data": {
      "text/html": [
       "<div>\n",
       "<style scoped>\n",
       "    .dataframe tbody tr th:only-of-type {\n",
       "        vertical-align: middle;\n",
       "    }\n",
       "\n",
       "    .dataframe tbody tr th {\n",
       "        vertical-align: top;\n",
       "    }\n",
       "\n",
       "    .dataframe thead th {\n",
       "        text-align: right;\n",
       "    }\n",
       "</style>\n",
       "<table border=\"1\" class=\"dataframe\">\n",
       "  <thead>\n",
       "    <tr style=\"text-align: right;\">\n",
       "      <th></th>\n",
       "      <th>0</th>\n",
       "      <th>1</th>\n",
       "      <th>2</th>\n",
       "    </tr>\n",
       "  </thead>\n",
       "  <tbody>\n",
       "    <tr>\n",
       "      <th>0</th>\n",
       "      <td>tarun</td>\n",
       "      <td>20</td>\n",
       "      <td>hyd</td>\n",
       "    </tr>\n",
       "    <tr>\n",
       "      <th>1</th>\n",
       "      <td>surender</td>\n",
       "      <td>25</td>\n",
       "      <td>ecil</td>\n",
       "    </tr>\n",
       "    <tr>\n",
       "      <th>2</th>\n",
       "      <td>mohit</td>\n",
       "      <td>21</td>\n",
       "      <td>blr</td>\n",
       "    </tr>\n",
       "  </tbody>\n",
       "</table>\n",
       "</div>"
      ],
      "text/plain": [
       "          0   1     2\n",
       "0     tarun  20   hyd\n",
       "1  surender  25  ecil\n",
       "2     mohit  21   blr"
      ]
     },
     "execution_count": 14,
     "metadata": {},
     "output_type": "execute_result"
    }
   ],
   "source": [
    "names=[\"tarun\",\"surender\",\"mohit\"]\n",
    "age=[20,25,21]\n",
    "city=[\"hyd\",\"ecil\",\"blr\"]\n",
    "pd.DataFrame(zip(names,age,city))"
   ]
  },
  {
   "cell_type": "markdown",
   "id": "f8c35f26-76e8-4cc1-8250-76ecb2e20c7e",
   "metadata": {},
   "source": [
    "**step-3**\n",
    "\n",
    "**provide the columns names**"
   ]
  },
  {
   "cell_type": "code",
   "execution_count": 21,
   "id": "957f86ac-b14c-4a84-8a34-1cb733237a04",
   "metadata": {},
   "outputs": [
    {
     "data": {
      "text/html": [
       "<div>\n",
       "<style scoped>\n",
       "    .dataframe tbody tr th:only-of-type {\n",
       "        vertical-align: middle;\n",
       "    }\n",
       "\n",
       "    .dataframe tbody tr th {\n",
       "        vertical-align: top;\n",
       "    }\n",
       "\n",
       "    .dataframe thead th {\n",
       "        text-align: right;\n",
       "    }\n",
       "</style>\n",
       "<table border=\"1\" class=\"dataframe\">\n",
       "  <thead>\n",
       "    <tr style=\"text-align: right;\">\n",
       "      <th></th>\n",
       "      <th>names</th>\n",
       "    </tr>\n",
       "  </thead>\n",
       "  <tbody>\n",
       "    <tr>\n",
       "      <th>0</th>\n",
       "      <td>tarun</td>\n",
       "    </tr>\n",
       "    <tr>\n",
       "      <th>1</th>\n",
       "      <td>surender</td>\n",
       "    </tr>\n",
       "    <tr>\n",
       "      <th>2</th>\n",
       "      <td>mohit</td>\n",
       "    </tr>\n",
       "  </tbody>\n",
       "</table>\n",
       "</div>"
      ],
      "text/plain": [
       "      names\n",
       "0     tarun\n",
       "1  surender\n",
       "2     mohit"
      ]
     },
     "execution_count": 21,
     "metadata": {},
     "output_type": "execute_result"
    }
   ],
   "source": [
    "names=[\"tarun\",\"surender\",\"mohit\"]\n",
    "pd.DataFrame(names,columns=[\"names\"])"
   ]
  },
  {
   "cell_type": "code",
   "execution_count": 20,
   "id": "5d987206-c044-4a6e-a273-59a1a1e7da60",
   "metadata": {},
   "outputs": [
    {
     "data": {
      "text/html": [
       "<div>\n",
       "<style scoped>\n",
       "    .dataframe tbody tr th:only-of-type {\n",
       "        vertical-align: middle;\n",
       "    }\n",
       "\n",
       "    .dataframe tbody tr th {\n",
       "        vertical-align: top;\n",
       "    }\n",
       "\n",
       "    .dataframe thead th {\n",
       "        text-align: right;\n",
       "    }\n",
       "</style>\n",
       "<table border=\"1\" class=\"dataframe\">\n",
       "  <thead>\n",
       "    <tr style=\"text-align: right;\">\n",
       "      <th></th>\n",
       "      <th>names</th>\n",
       "      <th>age</th>\n",
       "      <th>city</th>\n",
       "    </tr>\n",
       "  </thead>\n",
       "  <tbody>\n",
       "    <tr>\n",
       "      <th>0</th>\n",
       "      <td>tarun</td>\n",
       "      <td>20</td>\n",
       "      <td>hyd</td>\n",
       "    </tr>\n",
       "    <tr>\n",
       "      <th>1</th>\n",
       "      <td>surender</td>\n",
       "      <td>25</td>\n",
       "      <td>ecil</td>\n",
       "    </tr>\n",
       "    <tr>\n",
       "      <th>2</th>\n",
       "      <td>mohit</td>\n",
       "      <td>21</td>\n",
       "      <td>blr</td>\n",
       "    </tr>\n",
       "  </tbody>\n",
       "</table>\n",
       "</div>"
      ],
      "text/plain": [
       "      names  age  city\n",
       "0     tarun   20   hyd\n",
       "1  surender   25  ecil\n",
       "2     mohit   21   blr"
      ]
     },
     "execution_count": 20,
     "metadata": {},
     "output_type": "execute_result"
    }
   ],
   "source": [
    "names=[\"tarun\",\"surender\",\"mohit\"]\n",
    "age=[20,25,21]\n",
    "city=[\"hyd\",\"ecil\",\"blr\"]\n",
    "pd.DataFrame(zip(names,age,city),columns=[\"names\",\"age\",\"city\"])"
   ]
  },
  {
   "cell_type": "markdown",
   "id": "de3a5d81-4f8b-41c1-bd63-35a5ef36ca09",
   "metadata": {},
   "source": [
    "**step-4**\n",
    "\n",
    "**providing index**"
   ]
  },
  {
   "cell_type": "code",
   "execution_count": 22,
   "id": "4cb183a6-89d7-4aea-8fe7-034d4aa0a6fe",
   "metadata": {},
   "outputs": [
    {
     "data": {
      "text/html": [
       "<div>\n",
       "<style scoped>\n",
       "    .dataframe tbody tr th:only-of-type {\n",
       "        vertical-align: middle;\n",
       "    }\n",
       "\n",
       "    .dataframe tbody tr th {\n",
       "        vertical-align: top;\n",
       "    }\n",
       "\n",
       "    .dataframe thead th {\n",
       "        text-align: right;\n",
       "    }\n",
       "</style>\n",
       "<table border=\"1\" class=\"dataframe\">\n",
       "  <thead>\n",
       "    <tr style=\"text-align: right;\">\n",
       "      <th></th>\n",
       "      <th>names</th>\n",
       "      <th>age</th>\n",
       "      <th>city</th>\n",
       "    </tr>\n",
       "  </thead>\n",
       "  <tbody>\n",
       "    <tr>\n",
       "      <th>A</th>\n",
       "      <td>tarun</td>\n",
       "      <td>20</td>\n",
       "      <td>hyd</td>\n",
       "    </tr>\n",
       "    <tr>\n",
       "      <th>B</th>\n",
       "      <td>surender</td>\n",
       "      <td>25</td>\n",
       "      <td>ecil</td>\n",
       "    </tr>\n",
       "    <tr>\n",
       "      <th>C</th>\n",
       "      <td>mohit</td>\n",
       "      <td>21</td>\n",
       "      <td>blr</td>\n",
       "    </tr>\n",
       "  </tbody>\n",
       "</table>\n",
       "</div>"
      ],
      "text/plain": [
       "      names  age  city\n",
       "A     tarun   20   hyd\n",
       "B  surender   25  ecil\n",
       "C     mohit   21   blr"
      ]
     },
     "execution_count": 22,
     "metadata": {},
     "output_type": "execute_result"
    }
   ],
   "source": [
    "names=[\"tarun\",\"surender\",\"mohit\"]\n",
    "age=[20,25,21]\n",
    "city=[\"hyd\",\"ecil\",\"blr\"]\n",
    "pd.DataFrame(zip(names,age,city),\n",
    "             columns=[\"names\",\"age\",\"city\"],        # \n",
    "             index=[\"A\",\"B\",\"C\"])                   # 3 rows we need 3 index"
   ]
  },
  {
   "cell_type": "markdown",
   "id": "a6afd8eb-f445-4db2-9972-dcb2512c8310",
   "metadata": {},
   "source": [
    "**step-5**\n",
    "\n",
    "**adding new columns on existing dataframe**"
   ]
  },
  {
   "cell_type": "code",
   "execution_count": 2,
   "id": "fab49a2e-24f1-47e2-a870-7262ee89f9b4",
   "metadata": {},
   "outputs": [
    {
     "data": {
      "text/html": [
       "<div>\n",
       "<style scoped>\n",
       "    .dataframe tbody tr th:only-of-type {\n",
       "        vertical-align: middle;\n",
       "    }\n",
       "\n",
       "    .dataframe tbody tr th {\n",
       "        vertical-align: top;\n",
       "    }\n",
       "\n",
       "    .dataframe thead th {\n",
       "        text-align: right;\n",
       "    }\n",
       "</style>\n",
       "<table border=\"1\" class=\"dataframe\">\n",
       "  <thead>\n",
       "    <tr style=\"text-align: right;\">\n",
       "      <th></th>\n",
       "      <th>names</th>\n",
       "      <th>age</th>\n",
       "      <th>city</th>\n",
       "    </tr>\n",
       "  </thead>\n",
       "  <tbody>\n",
       "    <tr>\n",
       "      <th>A</th>\n",
       "      <td>tarun</td>\n",
       "      <td>20</td>\n",
       "      <td>hyd</td>\n",
       "    </tr>\n",
       "    <tr>\n",
       "      <th>B</th>\n",
       "      <td>surender</td>\n",
       "      <td>25</td>\n",
       "      <td>ecil</td>\n",
       "    </tr>\n",
       "    <tr>\n",
       "      <th>C</th>\n",
       "      <td>mohit</td>\n",
       "      <td>21</td>\n",
       "      <td>blr</td>\n",
       "    </tr>\n",
       "  </tbody>\n",
       "</table>\n",
       "</div>"
      ],
      "text/plain": [
       "      names  age  city\n",
       "A     tarun   20   hyd\n",
       "B  surender   25  ecil\n",
       "C     mohit   21   blr"
      ]
     },
     "execution_count": 2,
     "metadata": {},
     "output_type": "execute_result"
    }
   ],
   "source": [
    "import pandas as pd\n",
    "\n",
    "names=[\"tarun\",\"surender\",\"mohit\"]\n",
    "age=[20,25,21]\n",
    "city=[\"hyd\",\"ecil\",\"blr\"]\n",
    "df=pd.DataFrame(zip(names,age,city),\n",
    "             columns=[\"names\",\"age\",\"city\"],        # \n",
    "             index=[\"A\",\"B\",\"C\"])\n",
    "df"
   ]
  },
  {
   "cell_type": "markdown",
   "id": "afe42e65-8cde-4c3a-a2f1-8a87a94271c1",
   "metadata": {},
   "source": [
    "- if you want to add a new column \n",
    "- first check how many rows are there\n",
    "- for example im above date frame we have 3 rows\n",
    "- in new column should have 3 rows\n",
    "- suppose i want to create a new column called **salary**\n",
    "- make a list of salary with 3 values\n",
    "- salary=[100000,200000,300000]\n",
    "- **syntax** : **dataframe[column]=list of values**\n",
    "- \n",
    "\n"
   ]
  },
  {
   "cell_type": "code",
   "execution_count": 6,
   "id": "e6617165-2064-48c4-b414-f24d0e649763",
   "metadata": {},
   "outputs": [
    {
     "data": {
      "text/html": [
       "<div>\n",
       "<style scoped>\n",
       "    .dataframe tbody tr th:only-of-type {\n",
       "        vertical-align: middle;\n",
       "    }\n",
       "\n",
       "    .dataframe tbody tr th {\n",
       "        vertical-align: top;\n",
       "    }\n",
       "\n",
       "    .dataframe thead th {\n",
       "        text-align: right;\n",
       "    }\n",
       "</style>\n",
       "<table border=\"1\" class=\"dataframe\">\n",
       "  <thead>\n",
       "    <tr style=\"text-align: right;\">\n",
       "      <th></th>\n",
       "      <th>names</th>\n",
       "      <th>age</th>\n",
       "      <th>city</th>\n",
       "      <th>salary</th>\n",
       "    </tr>\n",
       "  </thead>\n",
       "  <tbody>\n",
       "    <tr>\n",
       "      <th>A</th>\n",
       "      <td>tarun</td>\n",
       "      <td>20</td>\n",
       "      <td>hyd</td>\n",
       "      <td>100000</td>\n",
       "    </tr>\n",
       "    <tr>\n",
       "      <th>B</th>\n",
       "      <td>surender</td>\n",
       "      <td>25</td>\n",
       "      <td>ecil</td>\n",
       "      <td>200000</td>\n",
       "    </tr>\n",
       "    <tr>\n",
       "      <th>C</th>\n",
       "      <td>mohit</td>\n",
       "      <td>21</td>\n",
       "      <td>blr</td>\n",
       "      <td>300000</td>\n",
       "    </tr>\n",
       "  </tbody>\n",
       "</table>\n",
       "</div>"
      ],
      "text/plain": [
       "      names  age  city  salary\n",
       "A     tarun   20   hyd  100000\n",
       "B  surender   25  ecil  200000\n",
       "C     mohit   21   blr  300000"
      ]
     },
     "execution_count": 6,
     "metadata": {},
     "output_type": "execute_result"
    }
   ],
   "source": [
    " salary=[100000,200000,300000]\n",
    "df[\"salary\"]=salary\n",
    "df"
   ]
  },
  {
   "cell_type": "markdown",
   "id": "035861f5-c8f4-4ee3-ab8c-2c1adbb5077f",
   "metadata": {},
   "source": [
    "**use case 1**\n",
    "\n",
    "- create a empty datafarame \n",
    "- create 3 lists using list comprehension\n",
    "- list1= a values from 1 to 10\n",
    "- list2= square of 1 to 10\n",
    "- list3= cubes of 1 to 10\n",
    "- finally make a data frame"
   ]
  },
  {
   "cell_type": "code",
   "execution_count": 7,
   "id": "2b9f4818-b4ca-4249-a373-a74c5e1fdd38",
   "metadata": {},
   "outputs": [],
   "source": [
    "import pandas as pd\n"
   ]
  },
  {
   "cell_type": "code",
   "execution_count": 9,
   "id": "a6583dc9-847b-4101-8a0d-f7718684b71a",
   "metadata": {},
   "outputs": [],
   "source": [
    "df1=pd.DataFrame()"
   ]
  },
  {
   "cell_type": "code",
   "execution_count": 12,
   "id": "cb78229e-f155-409e-b520-f88a10665cb3",
   "metadata": {},
   "outputs": [
    {
     "data": {
      "text/plain": [
       "[1, 2, 3, 4, 5, 6, 7, 8, 9, 10]"
      ]
     },
     "execution_count": 12,
     "metadata": {},
     "output_type": "execute_result"
    }
   ],
   "source": [
    "list1=[i for i in range (1,11)]\n",
    "list1"
   ]
  },
  {
   "cell_type": "code",
   "execution_count": 16,
   "id": "2645ee62-bc37-442c-882a-1cf79814dd29",
   "metadata": {},
   "outputs": [
    {
     "data": {
      "text/plain": [
       "[1, 4, 9, 16, 25, 36, 49, 64, 81, 100]"
      ]
     },
     "execution_count": 16,
     "metadata": {},
     "output_type": "execute_result"
    }
   ],
   "source": [
    "list2=[i*i for i in range(1,11)]     # or we can also write  list2=[i**2 for i in range(1,11)]\n",
    "list2"
   ]
  },
  {
   "cell_type": "code",
   "execution_count": 18,
   "id": "f7a31428-5fc3-4fa7-abe2-9937ca7eaa53",
   "metadata": {},
   "outputs": [
    {
     "data": {
      "text/plain": [
       "[1, 8, 27, 64, 125, 216, 343, 512, 729, 1000]"
      ]
     },
     "execution_count": 18,
     "metadata": {},
     "output_type": "execute_result"
    }
   ],
   "source": [
    "list3=[i*i*i for i in range(1,11)]   # or we can also write list3=[i**3 for i in range(1,11)] \n",
    "list3"
   ]
  },
  {
   "cell_type": "code",
   "execution_count": 24,
   "id": "30f3c15f-a113-4a2c-897e-980d48b0ab39",
   "metadata": {},
   "outputs": [
    {
     "data": {
      "text/html": [
       "<div>\n",
       "<style scoped>\n",
       "    .dataframe tbody tr th:only-of-type {\n",
       "        vertical-align: middle;\n",
       "    }\n",
       "\n",
       "    .dataframe tbody tr th {\n",
       "        vertical-align: top;\n",
       "    }\n",
       "\n",
       "    .dataframe thead th {\n",
       "        text-align: right;\n",
       "    }\n",
       "</style>\n",
       "<table border=\"1\" class=\"dataframe\">\n",
       "  <thead>\n",
       "    <tr style=\"text-align: right;\">\n",
       "      <th></th>\n",
       "      <th>numbers</th>\n",
       "      <th>squares</th>\n",
       "      <th>cubes</th>\n",
       "    </tr>\n",
       "  </thead>\n",
       "  <tbody>\n",
       "    <tr>\n",
       "      <th>1</th>\n",
       "      <td>1</td>\n",
       "      <td>1</td>\n",
       "      <td>1</td>\n",
       "    </tr>\n",
       "    <tr>\n",
       "      <th>2</th>\n",
       "      <td>2</td>\n",
       "      <td>4</td>\n",
       "      <td>8</td>\n",
       "    </tr>\n",
       "    <tr>\n",
       "      <th>3</th>\n",
       "      <td>3</td>\n",
       "      <td>9</td>\n",
       "      <td>27</td>\n",
       "    </tr>\n",
       "    <tr>\n",
       "      <th>4</th>\n",
       "      <td>4</td>\n",
       "      <td>16</td>\n",
       "      <td>64</td>\n",
       "    </tr>\n",
       "    <tr>\n",
       "      <th>5</th>\n",
       "      <td>5</td>\n",
       "      <td>25</td>\n",
       "      <td>125</td>\n",
       "    </tr>\n",
       "    <tr>\n",
       "      <th>6</th>\n",
       "      <td>6</td>\n",
       "      <td>36</td>\n",
       "      <td>216</td>\n",
       "    </tr>\n",
       "    <tr>\n",
       "      <th>7</th>\n",
       "      <td>7</td>\n",
       "      <td>49</td>\n",
       "      <td>343</td>\n",
       "    </tr>\n",
       "    <tr>\n",
       "      <th>8</th>\n",
       "      <td>8</td>\n",
       "      <td>64</td>\n",
       "      <td>512</td>\n",
       "    </tr>\n",
       "    <tr>\n",
       "      <th>9</th>\n",
       "      <td>9</td>\n",
       "      <td>81</td>\n",
       "      <td>729</td>\n",
       "    </tr>\n",
       "    <tr>\n",
       "      <th>10</th>\n",
       "      <td>10</td>\n",
       "      <td>100</td>\n",
       "      <td>1000</td>\n",
       "    </tr>\n",
       "  </tbody>\n",
       "</table>\n",
       "</div>"
      ],
      "text/plain": [
       "    numbers  squares  cubes\n",
       "1         1        1      1\n",
       "2         2        4      8\n",
       "3         3        9     27\n",
       "4         4       16     64\n",
       "5         5       25    125\n",
       "6         6       36    216\n",
       "7         7       49    343\n",
       "8         8       64    512\n",
       "9         9       81    729\n",
       "10       10      100   1000"
      ]
     },
     "execution_count": 24,
     "metadata": {},
     "output_type": "execute_result"
    }
   ],
   "source": [
    "df1=pd.DataFrame(zip(list1,list2,list3),\n",
    "                 columns=[\"numbers\",\"squares\",\"cubes\"],\n",
    "                 index=[i for i in range(1,11)])\n",
    "df1"
   ]
  },
  {
   "cell_type": "markdown",
   "id": "4e87c4b8-4785-475a-a1d1-e9016c8bd1aa",
   "metadata": {},
   "source": [
    "**Step-6**\n",
    "\n",
    "**update the already existed column**"
   ]
  },
  {
   "cell_type": "markdown",
   "id": "2b99d456-80a0-457c-974e-369aee020402",
   "metadata": {},
   "source": [
    "- create a new column \n",
    "- update the new column same only\n",
    "- here also we need to make a list of values == number of rows\n",
    "- creating a new column the column name is our choice\n",
    "- while updating the existed column we need yo provide the existing name only\n",
    "- **df[\"existing name\"]=list of values**"
   ]
  },
  {
   "cell_type": "code",
   "execution_count": 25,
   "id": "ccd8be60-4440-4b93-83ba-565dc8dc120e",
   "metadata": {},
   "outputs": [
    {
     "data": {
      "text/html": [
       "<div>\n",
       "<style scoped>\n",
       "    .dataframe tbody tr th:only-of-type {\n",
       "        vertical-align: middle;\n",
       "    }\n",
       "\n",
       "    .dataframe tbody tr th {\n",
       "        vertical-align: top;\n",
       "    }\n",
       "\n",
       "    .dataframe thead th {\n",
       "        text-align: right;\n",
       "    }\n",
       "</style>\n",
       "<table border=\"1\" class=\"dataframe\">\n",
       "  <thead>\n",
       "    <tr style=\"text-align: right;\">\n",
       "      <th></th>\n",
       "      <th>numbers</th>\n",
       "      <th>squares</th>\n",
       "      <th>cubes</th>\n",
       "    </tr>\n",
       "  </thead>\n",
       "  <tbody>\n",
       "    <tr>\n",
       "      <th>1</th>\n",
       "      <td>1</td>\n",
       "      <td>1</td>\n",
       "      <td>1</td>\n",
       "    </tr>\n",
       "    <tr>\n",
       "      <th>2</th>\n",
       "      <td>2</td>\n",
       "      <td>4</td>\n",
       "      <td>16</td>\n",
       "    </tr>\n",
       "    <tr>\n",
       "      <th>3</th>\n",
       "      <td>3</td>\n",
       "      <td>9</td>\n",
       "      <td>81</td>\n",
       "    </tr>\n",
       "    <tr>\n",
       "      <th>4</th>\n",
       "      <td>4</td>\n",
       "      <td>16</td>\n",
       "      <td>256</td>\n",
       "    </tr>\n",
       "    <tr>\n",
       "      <th>5</th>\n",
       "      <td>5</td>\n",
       "      <td>25</td>\n",
       "      <td>625</td>\n",
       "    </tr>\n",
       "    <tr>\n",
       "      <th>6</th>\n",
       "      <td>6</td>\n",
       "      <td>36</td>\n",
       "      <td>1296</td>\n",
       "    </tr>\n",
       "    <tr>\n",
       "      <th>7</th>\n",
       "      <td>7</td>\n",
       "      <td>49</td>\n",
       "      <td>2401</td>\n",
       "    </tr>\n",
       "    <tr>\n",
       "      <th>8</th>\n",
       "      <td>8</td>\n",
       "      <td>64</td>\n",
       "      <td>4096</td>\n",
       "    </tr>\n",
       "    <tr>\n",
       "      <th>9</th>\n",
       "      <td>9</td>\n",
       "      <td>81</td>\n",
       "      <td>6561</td>\n",
       "    </tr>\n",
       "    <tr>\n",
       "      <th>10</th>\n",
       "      <td>10</td>\n",
       "      <td>100</td>\n",
       "      <td>10000</td>\n",
       "    </tr>\n",
       "  </tbody>\n",
       "</table>\n",
       "</div>"
      ],
      "text/plain": [
       "    numbers  squares  cubes\n",
       "1         1        1      1\n",
       "2         2        4     16\n",
       "3         3        9     81\n",
       "4         4       16    256\n",
       "5         5       25    625\n",
       "6         6       36   1296\n",
       "7         7       49   2401\n",
       "8         8       64   4096\n",
       "9         9       81   6561\n",
       "10       10      100  10000"
      ]
     },
     "execution_count": 25,
     "metadata": {},
     "output_type": "execute_result"
    }
   ],
   "source": [
    "list4=[i**4 for i in range(1,11)]\n",
    "df1[\"cubes\"]=list4\n",
    "df1"
   ]
  },
  {
   "cell_type": "markdown",
   "id": "8f7bd25b-621e-44a6-b186-82f76dc5bf3e",
   "metadata": {},
   "source": [
    "**step-7**\n",
    "\n",
    "**how to drop a column**"
   ]
  },
  {
   "cell_type": "code",
   "execution_count": 29,
   "id": "6338b108-97c0-44dd-aaa7-83c0d9f9ec51",
   "metadata": {},
   "outputs": [
    {
     "data": {
      "text/plain": [
       "Index(['numbers', 'squares', 'cubes'], dtype='object')"
      ]
     },
     "execution_count": 29,
     "metadata": {},
     "output_type": "execute_result"
    }
   ],
   "source": [
    "# how to check the columns\n",
    "\n",
    "df1.columns"
   ]
  },
  {
   "cell_type": "markdown",
   "id": "a88082db-8278-49bc-92fd-e7084e67f8fc",
   "metadata": {},
   "source": [
    "- if you want to drop a specific column \n",
    "- we will use drop method\n",
    "- - we already know different between keywords and methods\n",
    "  - keywords we use directly\n",
    "  - methods will use with corresponding datafarame\n",
    "  - **method=drop**"
   ]
  },
  {
   "cell_type": "code",
   "execution_count": null,
   "id": "ce176426-7921-4353-a727-fe381be067b6",
   "metadata": {},
   "outputs": [],
   "source": [
    "- column: which column you want to drop\n",
    "- Axis : Represents the specified values is a row or column\n",
    "    - axis=0 means rows\n",
    "    - axis=1 means columns\n",
    "\n",
    "- inplace:  will provide overwrite the dataframe or not\n",
    "-           - inplace=True,this indicates over write the datafarame\n",
    "            - inplace=False, this indicates\n"
   ]
  },
  {
   "cell_type": "code",
   "execution_count": 36,
   "id": "1438cbc8-bed2-4d9e-b08e-8d5ceb3a3b5e",
   "metadata": {},
   "outputs": [
    {
     "data": {
      "text/html": [
       "<div>\n",
       "<style scoped>\n",
       "    .dataframe tbody tr th:only-of-type {\n",
       "        vertical-align: middle;\n",
       "    }\n",
       "\n",
       "    .dataframe tbody tr th {\n",
       "        vertical-align: top;\n",
       "    }\n",
       "\n",
       "    .dataframe thead th {\n",
       "        text-align: right;\n",
       "    }\n",
       "</style>\n",
       "<table border=\"1\" class=\"dataframe\">\n",
       "  <thead>\n",
       "    <tr style=\"text-align: right;\">\n",
       "      <th></th>\n",
       "      <th>numbers</th>\n",
       "      <th>squares</th>\n",
       "    </tr>\n",
       "  </thead>\n",
       "  <tbody>\n",
       "    <tr>\n",
       "      <th>1</th>\n",
       "      <td>1</td>\n",
       "      <td>1</td>\n",
       "    </tr>\n",
       "    <tr>\n",
       "      <th>2</th>\n",
       "      <td>2</td>\n",
       "      <td>4</td>\n",
       "    </tr>\n",
       "    <tr>\n",
       "      <th>3</th>\n",
       "      <td>3</td>\n",
       "      <td>9</td>\n",
       "    </tr>\n",
       "    <tr>\n",
       "      <th>4</th>\n",
       "      <td>4</td>\n",
       "      <td>16</td>\n",
       "    </tr>\n",
       "    <tr>\n",
       "      <th>5</th>\n",
       "      <td>5</td>\n",
       "      <td>25</td>\n",
       "    </tr>\n",
       "    <tr>\n",
       "      <th>6</th>\n",
       "      <td>6</td>\n",
       "      <td>36</td>\n",
       "    </tr>\n",
       "    <tr>\n",
       "      <th>7</th>\n",
       "      <td>7</td>\n",
       "      <td>49</td>\n",
       "    </tr>\n",
       "    <tr>\n",
       "      <th>8</th>\n",
       "      <td>8</td>\n",
       "      <td>64</td>\n",
       "    </tr>\n",
       "    <tr>\n",
       "      <th>9</th>\n",
       "      <td>9</td>\n",
       "      <td>81</td>\n",
       "    </tr>\n",
       "    <tr>\n",
       "      <th>10</th>\n",
       "      <td>10</td>\n",
       "      <td>100</td>\n",
       "    </tr>\n",
       "  </tbody>\n",
       "</table>\n",
       "</div>"
      ],
      "text/plain": [
       "    numbers  squares\n",
       "1         1        1\n",
       "2         2        4\n",
       "3         3        9\n",
       "4         4       16\n",
       "5         5       25\n",
       "6         6       36\n",
       "7         7       49\n",
       "8         8       64\n",
       "9         9       81\n",
       "10       10      100"
      ]
     },
     "execution_count": 36,
     "metadata": {},
     "output_type": "execute_result"
    }
   ],
   "source": [
    "df1.drop(\"cubes\",axis=1)\n",
    "\n",
    "# after this in a new cell type df1\n",
    "#we will see the original datafarame\n",
    "# because we did not provided the inplace\n",
    "\n",
    "# if we want to \n"
   ]
  },
  {
   "cell_type": "code",
   "execution_count": 43,
   "id": "f08d3cf7-4436-4adb-80f5-1bdaf1e4b2c2",
   "metadata": {},
   "outputs": [
    {
     "ename": "KeyError",
     "evalue": "\"['squares'] not found in axis\"",
     "output_type": "error",
     "traceback": [
      "\u001b[1;31m---------------------------------------------------------------------------\u001b[0m",
      "\u001b[1;31mKeyError\u001b[0m                                  Traceback (most recent call last)",
      "Cell \u001b[1;32mIn[43], line 1\u001b[0m\n\u001b[1;32m----> 1\u001b[0m df2\u001b[38;5;241m=\u001b[39mdf1\u001b[38;5;241m.\u001b[39mdrop(\u001b[38;5;124m\"\u001b[39m\u001b[38;5;124msquares\u001b[39m\u001b[38;5;124m\"\u001b[39m,axis\u001b[38;5;241m=\u001b[39m\u001b[38;5;241m1\u001b[39m,inplace\u001b[38;5;241m=\u001b[39m\u001b[38;5;28;01mTrue\u001b[39;00m)\n",
      "File \u001b[1;32mD:\\anaconda new\\Lib\\site-packages\\pandas\\core\\frame.py:5344\u001b[0m, in \u001b[0;36mDataFrame.drop\u001b[1;34m(self, labels, axis, index, columns, level, inplace, errors)\u001b[0m\n\u001b[0;32m   5196\u001b[0m \u001b[38;5;28;01mdef\u001b[39;00m \u001b[38;5;21mdrop\u001b[39m(\n\u001b[0;32m   5197\u001b[0m     \u001b[38;5;28mself\u001b[39m,\n\u001b[0;32m   5198\u001b[0m     labels: IndexLabel \u001b[38;5;241m|\u001b[39m \u001b[38;5;28;01mNone\u001b[39;00m \u001b[38;5;241m=\u001b[39m \u001b[38;5;28;01mNone\u001b[39;00m,\n\u001b[1;32m   (...)\u001b[0m\n\u001b[0;32m   5205\u001b[0m     errors: IgnoreRaise \u001b[38;5;241m=\u001b[39m \u001b[38;5;124m\"\u001b[39m\u001b[38;5;124mraise\u001b[39m\u001b[38;5;124m\"\u001b[39m,\n\u001b[0;32m   5206\u001b[0m ) \u001b[38;5;241m-\u001b[39m\u001b[38;5;241m>\u001b[39m DataFrame \u001b[38;5;241m|\u001b[39m \u001b[38;5;28;01mNone\u001b[39;00m:\n\u001b[0;32m   5207\u001b[0m \u001b[38;5;250m    \u001b[39m\u001b[38;5;124;03m\"\"\"\u001b[39;00m\n\u001b[0;32m   5208\u001b[0m \u001b[38;5;124;03m    Drop specified labels from rows or columns.\u001b[39;00m\n\u001b[0;32m   5209\u001b[0m \n\u001b[1;32m   (...)\u001b[0m\n\u001b[0;32m   5342\u001b[0m \u001b[38;5;124;03m            weight  1.0     0.8\u001b[39;00m\n\u001b[0;32m   5343\u001b[0m \u001b[38;5;124;03m    \"\"\"\u001b[39;00m\n\u001b[1;32m-> 5344\u001b[0m     \u001b[38;5;28;01mreturn\u001b[39;00m \u001b[38;5;28msuper\u001b[39m()\u001b[38;5;241m.\u001b[39mdrop(\n\u001b[0;32m   5345\u001b[0m         labels\u001b[38;5;241m=\u001b[39mlabels,\n\u001b[0;32m   5346\u001b[0m         axis\u001b[38;5;241m=\u001b[39maxis,\n\u001b[0;32m   5347\u001b[0m         index\u001b[38;5;241m=\u001b[39mindex,\n\u001b[0;32m   5348\u001b[0m         columns\u001b[38;5;241m=\u001b[39mcolumns,\n\u001b[0;32m   5349\u001b[0m         level\u001b[38;5;241m=\u001b[39mlevel,\n\u001b[0;32m   5350\u001b[0m         inplace\u001b[38;5;241m=\u001b[39minplace,\n\u001b[0;32m   5351\u001b[0m         errors\u001b[38;5;241m=\u001b[39merrors,\n\u001b[0;32m   5352\u001b[0m     )\n",
      "File \u001b[1;32mD:\\anaconda new\\Lib\\site-packages\\pandas\\core\\generic.py:4711\u001b[0m, in \u001b[0;36mNDFrame.drop\u001b[1;34m(self, labels, axis, index, columns, level, inplace, errors)\u001b[0m\n\u001b[0;32m   4709\u001b[0m \u001b[38;5;28;01mfor\u001b[39;00m axis, labels \u001b[38;5;129;01min\u001b[39;00m axes\u001b[38;5;241m.\u001b[39mitems():\n\u001b[0;32m   4710\u001b[0m     \u001b[38;5;28;01mif\u001b[39;00m labels \u001b[38;5;129;01mis\u001b[39;00m \u001b[38;5;129;01mnot\u001b[39;00m \u001b[38;5;28;01mNone\u001b[39;00m:\n\u001b[1;32m-> 4711\u001b[0m         obj \u001b[38;5;241m=\u001b[39m obj\u001b[38;5;241m.\u001b[39m_drop_axis(labels, axis, level\u001b[38;5;241m=\u001b[39mlevel, errors\u001b[38;5;241m=\u001b[39merrors)\n\u001b[0;32m   4713\u001b[0m \u001b[38;5;28;01mif\u001b[39;00m inplace:\n\u001b[0;32m   4714\u001b[0m     \u001b[38;5;28mself\u001b[39m\u001b[38;5;241m.\u001b[39m_update_inplace(obj)\n",
      "File \u001b[1;32mD:\\anaconda new\\Lib\\site-packages\\pandas\\core\\generic.py:4753\u001b[0m, in \u001b[0;36mNDFrame._drop_axis\u001b[1;34m(self, labels, axis, level, errors, only_slice)\u001b[0m\n\u001b[0;32m   4751\u001b[0m         new_axis \u001b[38;5;241m=\u001b[39m axis\u001b[38;5;241m.\u001b[39mdrop(labels, level\u001b[38;5;241m=\u001b[39mlevel, errors\u001b[38;5;241m=\u001b[39merrors)\n\u001b[0;32m   4752\u001b[0m     \u001b[38;5;28;01melse\u001b[39;00m:\n\u001b[1;32m-> 4753\u001b[0m         new_axis \u001b[38;5;241m=\u001b[39m axis\u001b[38;5;241m.\u001b[39mdrop(labels, errors\u001b[38;5;241m=\u001b[39merrors)\n\u001b[0;32m   4754\u001b[0m     indexer \u001b[38;5;241m=\u001b[39m axis\u001b[38;5;241m.\u001b[39mget_indexer(new_axis)\n\u001b[0;32m   4756\u001b[0m \u001b[38;5;66;03m# Case for non-unique axis\u001b[39;00m\n\u001b[0;32m   4757\u001b[0m \u001b[38;5;28;01melse\u001b[39;00m:\n",
      "File \u001b[1;32mD:\\anaconda new\\Lib\\site-packages\\pandas\\core\\indexes\\base.py:7000\u001b[0m, in \u001b[0;36mIndex.drop\u001b[1;34m(self, labels, errors)\u001b[0m\n\u001b[0;32m   6998\u001b[0m \u001b[38;5;28;01mif\u001b[39;00m mask\u001b[38;5;241m.\u001b[39many():\n\u001b[0;32m   6999\u001b[0m     \u001b[38;5;28;01mif\u001b[39;00m errors \u001b[38;5;241m!=\u001b[39m \u001b[38;5;124m\"\u001b[39m\u001b[38;5;124mignore\u001b[39m\u001b[38;5;124m\"\u001b[39m:\n\u001b[1;32m-> 7000\u001b[0m         \u001b[38;5;28;01mraise\u001b[39;00m \u001b[38;5;167;01mKeyError\u001b[39;00m(\u001b[38;5;124mf\u001b[39m\u001b[38;5;124m\"\u001b[39m\u001b[38;5;132;01m{\u001b[39;00mlabels[mask]\u001b[38;5;241m.\u001b[39mtolist()\u001b[38;5;132;01m}\u001b[39;00m\u001b[38;5;124m not found in axis\u001b[39m\u001b[38;5;124m\"\u001b[39m)\n\u001b[0;32m   7001\u001b[0m     indexer \u001b[38;5;241m=\u001b[39m indexer[\u001b[38;5;241m~\u001b[39mmask]\n\u001b[0;32m   7002\u001b[0m \u001b[38;5;28;01mreturn\u001b[39;00m \u001b[38;5;28mself\u001b[39m\u001b[38;5;241m.\u001b[39mdelete(indexer)\n",
      "\u001b[1;31mKeyError\u001b[0m: \"['squares'] not found in axis\""
     ]
    }
   ],
   "source": [
    "df2=df1.drop(\"squares\",axis=1,inplace=True)\n"
   ]
  },
  {
   "cell_type": "code",
   "execution_count": null,
   "id": "63bf49af-619d-4292-b253-c29f114e85d1",
   "metadata": {},
   "outputs": [],
   "source": []
  }
 ],
 "metadata": {
  "kernelspec": {
   "display_name": "Python 3 (ipykernel)",
   "language": "python",
   "name": "python3"
  },
  "language_info": {
   "codemirror_mode": {
    "name": "ipython",
    "version": 3
   },
   "file_extension": ".py",
   "mimetype": "text/x-python",
   "name": "python",
   "nbconvert_exporter": "python",
   "pygments_lexer": "ipython3",
   "version": "3.11.7"
  }
 },
 "nbformat": 4,
 "nbformat_minor": 5
}
